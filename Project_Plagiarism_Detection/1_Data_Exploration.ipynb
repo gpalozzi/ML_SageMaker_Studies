{
 "cells": [
  {
   "cell_type": "markdown",
   "metadata": {},
   "source": [
    "# Plagiarism Text Data\n",
    "\n",
    "In this project, you will be tasked with building a plagiarism detector that examines a text file and performs binary classification; labeling that file as either plagiarized or not, depending on how similar the text file is when compared to a provided source text. \n",
    "\n",
    "The first step in working with any dataset is loading the data in and noting what information is included in the dataset. This is an important step in eventually working with this data, and knowing what kinds of features you have to work with as you transform and group the data!\n",
    "\n",
    "So, this notebook is all about exploring the data and noting patterns about the features you are given and the distribution of data. \n",
    "\n",
    "> There are not any exercises or questions in this notebook, it is only meant for exploration. This notebook will note be required in your final project submission.\n",
    "\n",
    "---"
   ]
  },
  {
   "cell_type": "markdown",
   "metadata": {},
   "source": [
    "## Read in the Data\n",
    "\n",
    "The cell below will download the necessary data and extract the files into the folder `data/`.\n",
    "\n",
    "This data is a slightly modified version of a dataset created by Paul Clough (Information Studies) and Mark Stevenson (Computer Science), at the University of Sheffield. You can read all about the data collection and corpus, at [their university webpage](https://ir.shef.ac.uk/cloughie/resources/plagiarism_corpus.html). \n",
    "\n",
    "> **Citation for data**: Clough, P. and Stevenson, M. Developing A Corpus of Plagiarised Short Answers, Language Resources and Evaluation: Special Issue on Plagiarism and Authorship Analysis, In Press. [Download]"
   ]
  },
  {
   "cell_type": "code",
   "execution_count": 1,
   "metadata": {},
   "outputs": [
    {
     "name": "stdout",
     "output_type": "stream",
     "text": "--2020-03-08 10:24:25--  https://s3.amazonaws.com/video.udacity-data.com/topher/2019/January/5c4147f9_data/data.zip\nLoaded CA certificate '/etc/ssl/certs/ca-certificates.crt'\nResolving s3.amazonaws.com (s3.amazonaws.com)... 52.216.142.238\nConnecting to s3.amazonaws.com (s3.amazonaws.com)|52.216.142.238|:443...connected.\nHTTP request sent, awaiting response...200 OK\nLength: 113826 (111K) [application/zip]\nSaving to: ‘data.zip’\n\ndata.zip            100%[===================>] 111.16K   727KB/s    in 0.2s    \n\n2020-03-08 10:24:25 (727 KB/s) - ‘data.zip’ saved [113826/113826]\n\nArchive:  data.zip\n   creating: data/\n  inflating: data/.DS_Store          \n   creating: __MACOSX/\n   creating: __MACOSX/data/\n  inflating: __MACOSX/data/._.DS_Store  \n  inflating: data/file_information.csv  \n  inflating: __MACOSX/data/._file_information.csv  \n  inflating: data/g0pA_taska.txt     \n  inflating: __MACOSX/data/._g0pA_taska.txt  \n  inflating: data/g0pA_taskb.txt     \n  inflating: __MACOSX/data/._g0pA_taskb.txt  \n  inflating: data/g0pA_taskc.txt     \n  inflating: __MACOSX/data/._g0pA_taskc.txt  \n  inflating: data/g0pA_taskd.txt     \n  inflating: __MACOSX/data/._g0pA_taskd.txt  \n  inflating: data/g0pA_taske.txt     \n  inflating: __MACOSX/data/._g0pA_taske.txt  \n  inflating: data/g0pB_taska.txt     \n  inflating: __MACOSX/data/._g0pB_taska.txt  \n  inflating: data/g0pB_taskb.txt     \n  inflating: __MACOSX/data/._g0pB_taskb.txt  \n  inflating: data/g0pB_taskc.txt     \n  inflating: __MACOSX/data/._g0pB_taskc.txt  \n  inflating: data/g0pB_taskd.txt     \n  inflating: __MACOSX/data/._g0pB_taskd.txt  \n  inflating: data/g0pB_taske.txt     \n  inflating: __MACOSX/data/._g0pB_taske.txt  \n  inflating: data/g0pC_taska.txt     \n  inflating: __MACOSX/data/._g0pC_taska.txt  \n  inflating: data/g0pC_taskb.txt     \n  inflating: __MACOSX/data/._g0pC_taskb.txt  \n  inflating: data/g0pC_taskc.txt     \n  inflating: __MACOSX/data/._g0pC_taskc.txt  \n  inflating: data/g0pC_taskd.txt     \n  inflating: __MACOSX/data/._g0pC_taskd.txt  \n  inflating: data/g0pC_taske.txt     \n  inflating: __MACOSX/data/._g0pC_taske.txt  \n  inflating: data/g0pD_taska.txt     \n  inflating: __MACOSX/data/._g0pD_taska.txt  \n  inflating: data/g0pD_taskb.txt     \n  inflating: __MACOSX/data/._g0pD_taskb.txt  \n  inflating: data/g0pD_taskc.txt     \n  inflating: __MACOSX/data/._g0pD_taskc.txt  \n  inflating: data/g0pD_taskd.txt     \n  inflating: __MACOSX/data/._g0pD_taskd.txt  \n  inflating: data/g0pD_taske.txt     \n  inflating: __MACOSX/data/._g0pD_taske.txt  \n  inflating: data/g0pE_taska.txt     \n  inflating: __MACOSX/data/._g0pE_taska.txt  \n  inflating: data/g0pE_taskb.txt     \n  inflating: __MACOSX/data/._g0pE_taskb.txt  \n  inflating: data/g0pE_taskc.txt     \n  inflating: __MACOSX/data/._g0pE_taskc.txt  \n  inflating: data/g0pE_taskd.txt     \n  inflating: __MACOSX/data/._g0pE_taskd.txt  \n  inflating: data/g0pE_taske.txt     \n  inflating: __MACOSX/data/._g0pE_taske.txt  \n  inflating: data/g1pA_taska.txt     \n  inflating: __MACOSX/data/._g1pA_taska.txt  \n  inflating: data/g1pA_taskb.txt     \n  inflating: __MACOSX/data/._g1pA_taskb.txt  \n  inflating: data/g1pA_taskc.txt     \n  inflating: __MACOSX/data/._g1pA_taskc.txt  \n  inflating: data/g1pA_taskd.txt     \n  inflating: __MACOSX/data/._g1pA_taskd.txt  \n  inflating: data/g1pA_taske.txt     \n  inflating: __MACOSX/data/._g1pA_taske.txt  \n  inflating: data/g1pB_taska.txt     \n  inflating: __MACOSX/data/._g1pB_taska.txt  \n  inflating: data/g1pB_taskb.txt     \n  inflating: __MACOSX/data/._g1pB_taskb.txt  \n  inflating: data/g1pB_taskc.txt     \n  inflating: __MACOSX/data/._g1pB_taskc.txt  \n  inflating: data/g1pB_taskd.txt     \n  inflating: __MACOSX/data/._g1pB_taskd.txt  \n  inflating: data/g1pB_taske.txt     \n  inflating: __MACOSX/data/._g1pB_taske.txt  \n  inflating: data/g1pD_taska.txt     \n  inflating: __MACOSX/data/._g1pD_taska.txt  \n  inflating: data/g1pD_taskb.txt     \n  inflating: __MACOSX/data/._g1pD_taskb.txt  \n  inflating: data/g1pD_taskc.txt     \n  inflating: __MACOSX/data/._g1pD_taskc.txt  \n  inflating: data/g1pD_taskd.txt     \n  inflating: __MACOSX/data/._g1pD_taskd.txt  \n  inflating: data/g1pD_taske.txt     \n  inflating: __MACOSX/data/._g1pD_taske.txt  \n  inflating: data/g2pA_taska.txt     \n  inflating: __MACOSX/data/._g2pA_taska.txt  \n  inflating: data/g2pA_taskb.txt     \n  inflating: __MACOSX/data/._g2pA_taskb.txt  \n  inflating: data/g2pA_taskc.txt     \n  inflating: __MACOSX/data/._g2pA_taskc.txt  \n  inflating: data/g2pA_taskd.txt     \n  inflating: __MACOSX/data/._g2pA_taskd.txt  \n  inflating: data/g2pA_taske.txt     \n  inflating: __MACOSX/data/._g2pA_taske.txt  \n  inflating: data/g2pB_taska.txt     \n  inflating: __MACOSX/data/._g2pB_taska.txt  \n  inflating: data/g2pB_taskb.txt     \n  inflating: __MACOSX/data/._g2pB_taskb.txt  \n  inflating: data/g2pB_taskc.txt     \n  inflating: __MACOSX/data/._g2pB_taskc.txt  \n  inflating: data/g2pB_taskd.txt     \n  inflating: __MACOSX/data/._g2pB_taskd.txt  \n  inflating: data/g2pB_taske.txt     \n  inflating: __MACOSX/data/._g2pB_taske.txt  \n  inflating: data/g2pC_taska.txt     \n  inflating: __MACOSX/data/._g2pC_taska.txt  \n  inflating: data/g2pC_taskb.txt     \n  inflating: __MACOSX/data/._g2pC_taskb.txt  \n  inflating: data/g2pC_taskc.txt     \n  inflating: __MACOSX/data/._g2pC_taskc.txt  \n  inflating: data/g2pC_taskd.txt     \n  inflating: __MACOSX/data/._g2pC_taskd.txt  \n  inflating: data/g2pC_taske.txt     \n  inflating: __MACOSX/data/._g2pC_taske.txt  \n  inflating: data/g2pE_taska.txt     \n  inflating: __MACOSX/data/._g2pE_taska.txt  \n  inflating: data/g2pE_taskb.txt     \n  inflating: __MACOSX/data/._g2pE_taskb.txt  \n  inflating: data/g2pE_taskc.txt     \n  inflating: __MACOSX/data/._g2pE_taskc.txt  \n  inflating: data/g2pE_taskd.txt     \n  inflating: __MACOSX/data/._g2pE_taskd.txt  \n  inflating: data/g2pE_taske.txt     \n  inflating: __MACOSX/data/._g2pE_taske.txt  \n  inflating: data/g3pA_taska.txt     \n  inflating: __MACOSX/data/._g3pA_taska.txt  \n  inflating: data/g3pA_taskb.txt     \n  inflating: __MACOSX/data/._g3pA_taskb.txt  \n  inflating: data/g3pA_taskc.txt     \n  inflating: __MACOSX/data/._g3pA_taskc.txt  \n  inflating: data/g3pA_taskd.txt     \n  inflating: __MACOSX/data/._g3pA_taskd.txt  \n  inflating: data/g3pA_taske.txt     \n  inflating: __MACOSX/data/._g3pA_taske.txt  \n  inflating: data/g3pB_taska.txt     \n  inflating: __MACOSX/data/._g3pB_taska.txt  \n  inflating: data/g3pB_taskb.txt     \n  inflating: __MACOSX/data/._g3pB_taskb.txt  \n  inflating: data/g3pB_taskc.txt     \n  inflating: __MACOSX/data/._g3pB_taskc.txt  \n  inflating: data/g3pB_taskd.txt     \n  inflating: __MACOSX/data/._g3pB_taskd.txt  \n  inflating: data/g3pB_taske.txt     \n  inflating: __MACOSX/data/._g3pB_taske.txt  \n  inflating: data/g3pC_taska.txt     \n  inflating: __MACOSX/data/._g3pC_taska.txt  \n  inflating: data/g3pC_taskb.txt     \n  inflating: __MACOSX/data/._g3pC_taskb.txt  \n  inflating: data/g3pC_taskc.txt     \n  inflating: __MACOSX/data/._g3pC_taskc.txt  \n  inflating: data/g3pC_taskd.txt     \n  inflating: __MACOSX/data/._g3pC_taskd.txt  \n  inflating: data/g3pC_taske.txt     \n  inflating: __MACOSX/data/._g3pC_taske.txt  \n  inflating: data/g4pB_taska.txt     \n  inflating: __MACOSX/data/._g4pB_taska.txt  \n  inflating: data/g4pB_taskb.txt     \n  inflating: __MACOSX/data/._g4pB_taskb.txt  \n  inflating: data/g4pB_taskc.txt     \n  inflating: __MACOSX/data/._g4pB_taskc.txt  \n  inflating: data/g4pB_taskd.txt     \n  inflating: __MACOSX/data/._g4pB_taskd.txt  \n  inflating: data/g4pB_taske.txt     \n  inflating: __MACOSX/data/._g4pB_taske.txt  \n  inflating: data/g4pC_taska.txt     \n  inflating: __MACOSX/data/._g4pC_taska.txt  \n  inflating: data/g4pC_taskb.txt     \n  inflating: __MACOSX/data/._g4pC_taskb.txt  \n  inflating: data/g4pC_taskc.txt     \n  inflating: __MACOSX/data/._g4pC_taskc.txt  \n  inflating: data/g4pC_taskd.txt     \n  inflating: __MACOSX/data/._g4pC_taskd.txt  \n  inflating: data/g4pC_taske.txt     \n  inflating: __MACOSX/data/._g4pC_taske.txt  \n  inflating: data/g4pD_taska.txt     \n  inflating: __MACOSX/data/._g4pD_taska.txt  \n  inflating: data/g4pD_taskb.txt     \n  inflating: __MACOSX/data/._g4pD_taskb.txt  \n  inflating: data/g4pD_taskc.txt     \n  inflating: __MACOSX/data/._g4pD_taskc.txt  \n  inflating: data/g4pD_taskd.txt     \n  inflating: __MACOSX/data/._g4pD_taskd.txt  \n  inflating: data/g4pD_taske.txt     \n  inflating: __MACOSX/data/._g4pD_taske.txt  \n  inflating: data/g4pE_taska.txt     \n  inflating: __MACOSX/data/._g4pE_taska.txt  \n  inflating: data/g4pE_taskb.txt     \n  inflating: __MACOSX/data/._g4pE_taskb.txt  \n  inflating: data/g4pE_taskc.txt     \n  inflating: __MACOSX/data/._g4pE_taskc.txt  \n  inflating: data/g4pE_taskd.txt     \n  inflating: __MACOSX/data/._g4pE_taskd.txt  \n  inflating: data/g4pE_taske.txt     \n  inflating: __MACOSX/data/._g4pE_taske.txt  \n  inflating: data/orig_taska.txt     \n  inflating: __MACOSX/data/._orig_taska.txt  \n  inflating: data/orig_taskb.txt     \n  inflating: data/orig_taskc.txt     \n  inflating: __MACOSX/data/._orig_taskc.txt  \n  inflating: data/orig_taskd.txt     \n  inflating: __MACOSX/data/._orig_taskd.txt  \n  inflating: data/orig_taske.txt     \n  inflating: __MACOSX/data/._orig_taske.txt  \n  inflating: data/test_info.csv      \n  inflating: __MACOSX/data/._test_info.csv  \n  inflating: __MACOSX/._data         \n"
    }
   ],
   "source": [
    "!wget https://s3.amazonaws.com/video.udacity-data.com/topher/2019/January/5c4147f9_data/data.zip\n",
    "!unzip data"
   ]
  },
  {
   "cell_type": "code",
   "execution_count": 2,
   "metadata": {},
   "outputs": [],
   "source": [
    "# import libraries\n",
    "import pandas as pd\n",
    "import numpy as np\n",
    "import os"
   ]
  },
  {
   "cell_type": "markdown",
   "metadata": {},
   "source": [
    "This plagiarism dataset is made of multiple text files; each of these files has characteristics that are is summarized in a `.csv` file named `file_information.csv`, which we can read in using `pandas`."
   ]
  },
  {
   "cell_type": "code",
   "execution_count": 3,
   "metadata": {},
   "outputs": [
    {
     "data": {
      "text/html": "<div>\n<style scoped>\n    .dataframe tbody tr th:only-of-type {\n        vertical-align: middle;\n    }\n\n    .dataframe tbody tr th {\n        vertical-align: top;\n    }\n\n    .dataframe thead th {\n        text-align: right;\n    }\n</style>\n<table border=\"1\" class=\"dataframe\">\n  <thead>\n    <tr style=\"text-align: right;\">\n      <th></th>\n      <th>File</th>\n      <th>Task</th>\n      <th>Category</th>\n    </tr>\n  </thead>\n  <tbody>\n    <tr>\n      <th>0</th>\n      <td>g0pA_taska.txt</td>\n      <td>a</td>\n      <td>non</td>\n    </tr>\n    <tr>\n      <th>1</th>\n      <td>g0pA_taskb.txt</td>\n      <td>b</td>\n      <td>cut</td>\n    </tr>\n    <tr>\n      <th>2</th>\n      <td>g0pA_taskc.txt</td>\n      <td>c</td>\n      <td>light</td>\n    </tr>\n    <tr>\n      <th>3</th>\n      <td>g0pA_taskd.txt</td>\n      <td>d</td>\n      <td>heavy</td>\n    </tr>\n    <tr>\n      <th>4</th>\n      <td>g0pA_taske.txt</td>\n      <td>e</td>\n      <td>non</td>\n    </tr>\n    <tr>\n      <th>5</th>\n      <td>g0pB_taska.txt</td>\n      <td>a</td>\n      <td>non</td>\n    </tr>\n    <tr>\n      <th>6</th>\n      <td>g0pB_taskb.txt</td>\n      <td>b</td>\n      <td>non</td>\n    </tr>\n    <tr>\n      <th>7</th>\n      <td>g0pB_taskc.txt</td>\n      <td>c</td>\n      <td>cut</td>\n    </tr>\n    <tr>\n      <th>8</th>\n      <td>g0pB_taskd.txt</td>\n      <td>d</td>\n      <td>light</td>\n    </tr>\n    <tr>\n      <th>9</th>\n      <td>g0pB_taske.txt</td>\n      <td>e</td>\n      <td>heavy</td>\n    </tr>\n  </tbody>\n</table>\n</div>",
      "text/plain": "             File Task Category\n0  g0pA_taska.txt    a      non\n1  g0pA_taskb.txt    b      cut\n2  g0pA_taskc.txt    c    light\n3  g0pA_taskd.txt    d    heavy\n4  g0pA_taske.txt    e      non\n5  g0pB_taska.txt    a      non\n6  g0pB_taskb.txt    b      non\n7  g0pB_taskc.txt    c      cut\n8  g0pB_taskd.txt    d    light\n9  g0pB_taske.txt    e    heavy"
     },
     "execution_count": 3,
     "metadata": {},
     "output_type": "execute_result"
    }
   ],
   "source": [
    "csv_file = 'data/file_information.csv'\n",
    "plagiarism_df = pd.read_csv(csv_file)\n",
    "\n",
    "# print out the first few rows of data info\n",
    "plagiarism_df.head(10)"
   ]
  },
  {
   "cell_type": "markdown",
   "metadata": {},
   "source": [
    "## Types of Plagiarism\n",
    "\n",
    "Each text file is associated with one **Task** (task A-E) and one **Category** of plagiarism, which you can see in the above DataFrame.\n",
    "\n",
    "###  Five task types, A-E\n",
    "\n",
    "Each text file contains an answer to one short question; these questions are labeled as tasks A-E.\n",
    "* Each task, A-E, is about a topic that might be included in the Computer Science curriculum that was created by the authors of this dataset. \n",
    "    * For example, Task A asks the question: \"What is inheritance in object oriented programming?\"\n",
    "\n",
    "### Four categories of plagiarism \n",
    "\n",
    "Each text file has an associated plagiarism label/category:\n",
    "\n",
    "1. `cut`: An answer is plagiarized; it is copy-pasted directly from the relevant Wikipedia source text.\n",
    "2. `light`: An answer is plagiarized; it is based on the Wikipedia source text and includes some copying and paraphrasing.\n",
    "3. `heavy`: An answer is plagiarized; it is based on the Wikipedia source text but expressed using different words and structure. Since this doesn't copy directly from a source text, this will likely be the most challenging kind of plagiarism to detect.\n",
    "4. `non`: An answer is not plagiarized; the Wikipedia source text is not used to create this answer.\n",
    "5. `orig`: This is a specific category for the original, Wikipedia source text. We will use these files only for comparison purposes.\n",
    "\n",
    "> So, out of the submitted files, the only category that does not contain any plagiarism is `non`.\n",
    "\n",
    "In the next cell, print out some statistics about the data."
   ]
  },
  {
   "cell_type": "code",
   "execution_count": 4,
   "metadata": {},
   "outputs": [
    {
     "name": "stdout",
     "output_type": "stream",
     "text": "Number of files:  100\nNumber of unique tasks/question types (A-E):  5\nUnique plagiarism categories:  ['non' 'cut' 'light' 'heavy' 'orig']\n"
    }
   ],
   "source": [
    "# print out some stats about the data\n",
    "print('Number of files: ', plagiarism_df.shape[0])  # .shape[0] gives the rows \n",
    "# .unique() gives unique items in a specified column\n",
    "print('Number of unique tasks/question types (A-E): ', (len(plagiarism_df['Task'].unique())))\n",
    "print('Unique plagiarism categories: ', (plagiarism_df['Category'].unique()))"
   ]
  },
  {
   "cell_type": "markdown",
   "metadata": {},
   "source": [
    "You should see the number of text files in the dataset as well as some characteristics about the `Task` and `Category` columns. **Note that the file count of 100 *includes* the 5 _original_ wikipedia files for tasks A-E.** If you take a look at the files in the `data` directory, you'll notice that the original, source texts start with the filename `orig_` as opposed to `g` for \"group.\" \n",
    "\n",
    "> So, in total there are 100 files, 95 of which are answers (submitted by people) and 5 of which are the original, Wikipedia source texts.\n",
    "\n",
    "Your end goal will be to use this information to classify any given answer text into one of two categories, plagiarized or not-plagiarized."
   ]
  },
  {
   "cell_type": "markdown",
   "metadata": {},
   "source": [
    "### Distribution of Data\n",
    "\n",
    "Next, let's look at the distribution of data. In this course, we've talked about traits like class imbalance that can inform how you develop an algorithm. So, here, we'll ask: **How evenly is our data distributed among different tasks and plagiarism levels?**\n",
    "\n",
    "Below, you should notice two things:\n",
    "* Our dataset is quite small, especially with respect to examples of varying plagiarism levels.\n",
    "* The data is distributed fairly evenly across task and plagiarism types."
   ]
  },
  {
   "cell_type": "code",
   "execution_count": 5,
   "metadata": {},
   "outputs": [
    {
     "name": "stdout",
     "output_type": "stream",
     "text": "\nTask:\n"
    },
    {
     "data": {
      "text/html": "<div>\n<style scoped>\n    .dataframe tbody tr th:only-of-type {\n        vertical-align: middle;\n    }\n\n    .dataframe tbody tr th {\n        vertical-align: top;\n    }\n\n    .dataframe thead th {\n        text-align: right;\n    }\n</style>\n<table border=\"1\" class=\"dataframe\">\n  <thead>\n    <tr style=\"text-align: right;\">\n      <th></th>\n      <th>Task</th>\n      <th>Counts</th>\n    </tr>\n  </thead>\n  <tbody>\n    <tr>\n      <th>0</th>\n      <td>a</td>\n      <td>20</td>\n    </tr>\n    <tr>\n      <th>1</th>\n      <td>b</td>\n      <td>20</td>\n    </tr>\n    <tr>\n      <th>2</th>\n      <td>c</td>\n      <td>20</td>\n    </tr>\n    <tr>\n      <th>3</th>\n      <td>d</td>\n      <td>20</td>\n    </tr>\n    <tr>\n      <th>4</th>\n      <td>e</td>\n      <td>20</td>\n    </tr>\n  </tbody>\n</table>\n</div>",
      "text/plain": "  Task  Counts\n0    a      20\n1    b      20\n2    c      20\n3    d      20\n4    e      20"
     },
     "metadata": {},
     "output_type": "display_data"
    },
    {
     "name": "stdout",
     "output_type": "stream",
     "text": "\nPlagiarism Levels:\n"
    },
    {
     "data": {
      "text/html": "<div>\n<style scoped>\n    .dataframe tbody tr th:only-of-type {\n        vertical-align: middle;\n    }\n\n    .dataframe tbody tr th {\n        vertical-align: top;\n    }\n\n    .dataframe thead th {\n        text-align: right;\n    }\n</style>\n<table border=\"1\" class=\"dataframe\">\n  <thead>\n    <tr style=\"text-align: right;\">\n      <th></th>\n      <th>Category</th>\n      <th>Counts</th>\n    </tr>\n  </thead>\n  <tbody>\n    <tr>\n      <th>0</th>\n      <td>cut</td>\n      <td>19</td>\n    </tr>\n    <tr>\n      <th>1</th>\n      <td>heavy</td>\n      <td>19</td>\n    </tr>\n    <tr>\n      <th>2</th>\n      <td>light</td>\n      <td>19</td>\n    </tr>\n    <tr>\n      <th>3</th>\n      <td>non</td>\n      <td>38</td>\n    </tr>\n    <tr>\n      <th>4</th>\n      <td>orig</td>\n      <td>5</td>\n    </tr>\n  </tbody>\n</table>\n</div>",
      "text/plain": "  Category  Counts\n0      cut      19\n1    heavy      19\n2    light      19\n3      non      38\n4     orig       5"
     },
     "metadata": {},
     "output_type": "display_data"
    },
    {
     "name": "stdout",
     "output_type": "stream",
     "text": "\nTask & Plagiarism Level Combos :\n"
    },
    {
     "data": {
      "text/html": "<div>\n<style scoped>\n    .dataframe tbody tr th:only-of-type {\n        vertical-align: middle;\n    }\n\n    .dataframe tbody tr th {\n        vertical-align: top;\n    }\n\n    .dataframe thead th {\n        text-align: right;\n    }\n</style>\n<table border=\"1\" class=\"dataframe\">\n  <thead>\n    <tr style=\"text-align: right;\">\n      <th></th>\n      <th>Task</th>\n      <th>Category</th>\n      <th>Counts</th>\n    </tr>\n  </thead>\n  <tbody>\n    <tr>\n      <th>0</th>\n      <td>a</td>\n      <td>cut</td>\n      <td>4</td>\n    </tr>\n    <tr>\n      <th>1</th>\n      <td>a</td>\n      <td>heavy</td>\n      <td>3</td>\n    </tr>\n    <tr>\n      <th>2</th>\n      <td>a</td>\n      <td>light</td>\n      <td>3</td>\n    </tr>\n    <tr>\n      <th>3</th>\n      <td>a</td>\n      <td>non</td>\n      <td>9</td>\n    </tr>\n    <tr>\n      <th>4</th>\n      <td>a</td>\n      <td>orig</td>\n      <td>1</td>\n    </tr>\n    <tr>\n      <th>5</th>\n      <td>b</td>\n      <td>cut</td>\n      <td>3</td>\n    </tr>\n    <tr>\n      <th>6</th>\n      <td>b</td>\n      <td>heavy</td>\n      <td>4</td>\n    </tr>\n    <tr>\n      <th>7</th>\n      <td>b</td>\n      <td>light</td>\n      <td>3</td>\n    </tr>\n    <tr>\n      <th>8</th>\n      <td>b</td>\n      <td>non</td>\n      <td>9</td>\n    </tr>\n    <tr>\n      <th>9</th>\n      <td>b</td>\n      <td>orig</td>\n      <td>1</td>\n    </tr>\n    <tr>\n      <th>10</th>\n      <td>c</td>\n      <td>cut</td>\n      <td>3</td>\n    </tr>\n    <tr>\n      <th>11</th>\n      <td>c</td>\n      <td>heavy</td>\n      <td>5</td>\n    </tr>\n    <tr>\n      <th>12</th>\n      <td>c</td>\n      <td>light</td>\n      <td>4</td>\n    </tr>\n    <tr>\n      <th>13</th>\n      <td>c</td>\n      <td>non</td>\n      <td>7</td>\n    </tr>\n    <tr>\n      <th>14</th>\n      <td>c</td>\n      <td>orig</td>\n      <td>1</td>\n    </tr>\n    <tr>\n      <th>15</th>\n      <td>d</td>\n      <td>cut</td>\n      <td>4</td>\n    </tr>\n    <tr>\n      <th>16</th>\n      <td>d</td>\n      <td>heavy</td>\n      <td>4</td>\n    </tr>\n    <tr>\n      <th>17</th>\n      <td>d</td>\n      <td>light</td>\n      <td>5</td>\n    </tr>\n    <tr>\n      <th>18</th>\n      <td>d</td>\n      <td>non</td>\n      <td>6</td>\n    </tr>\n    <tr>\n      <th>19</th>\n      <td>d</td>\n      <td>orig</td>\n      <td>1</td>\n    </tr>\n    <tr>\n      <th>20</th>\n      <td>e</td>\n      <td>cut</td>\n      <td>5</td>\n    </tr>\n    <tr>\n      <th>21</th>\n      <td>e</td>\n      <td>heavy</td>\n      <td>3</td>\n    </tr>\n    <tr>\n      <th>22</th>\n      <td>e</td>\n      <td>light</td>\n      <td>4</td>\n    </tr>\n    <tr>\n      <th>23</th>\n      <td>e</td>\n      <td>non</td>\n      <td>7</td>\n    </tr>\n    <tr>\n      <th>24</th>\n      <td>e</td>\n      <td>orig</td>\n      <td>1</td>\n    </tr>\n  </tbody>\n</table>\n</div>",
      "text/plain": "   Task Category  Counts\n0     a      cut       4\n1     a    heavy       3\n2     a    light       3\n3     a      non       9\n4     a     orig       1\n5     b      cut       3\n6     b    heavy       4\n7     b    light       3\n8     b      non       9\n9     b     orig       1\n10    c      cut       3\n11    c    heavy       5\n12    c    light       4\n13    c      non       7\n14    c     orig       1\n15    d      cut       4\n16    d    heavy       4\n17    d    light       5\n18    d      non       6\n19    d     orig       1\n20    e      cut       5\n21    e    heavy       3\n22    e    light       4\n23    e      non       7\n24    e     orig       1"
     },
     "metadata": {},
     "output_type": "display_data"
    }
   ],
   "source": [
    "# Show counts by different tasks and amounts of plagiarism\n",
    "\n",
    "# group and count by task\n",
    "counts_per_task=plagiarism_df.groupby(['Task']).size().reset_index(name=\"Counts\")\n",
    "print(\"\\nTask:\")\n",
    "display(counts_per_task)\n",
    "\n",
    "# group by plagiarism level\n",
    "counts_per_category=plagiarism_df.groupby(['Category']).size().reset_index(name=\"Counts\")\n",
    "print(\"\\nPlagiarism Levels:\")\n",
    "display(counts_per_category)\n",
    "\n",
    "# group by task AND plagiarism level\n",
    "counts_task_and_plagiarism=plagiarism_df.groupby(['Task', 'Category']).size().reset_index(name=\"Counts\")\n",
    "print(\"\\nTask & Plagiarism Level Combos :\")\n",
    "display(counts_task_and_plagiarism)"
   ]
  },
  {
   "cell_type": "markdown",
   "metadata": {},
   "source": [
    "It may also be helpful to look at this last DataFrame, graphically.\n",
    "\n",
    "Below, you can see that the counts follow a pattern broken down by task. Each task has one source text (original) and the highest number on `non` plagiarized cases."
   ]
  },
  {
   "cell_type": "code",
   "execution_count": 7,
   "metadata": {},
   "outputs": [
    {
     "data": {
      "text/plain": "<BarContainer object of 25 artists>"
     },
     "execution_count": 7,
     "metadata": {},
     "output_type": "execute_result"
    },
    {
     "data": {
      "image/png": "[encoded data removed]",
      "image/svg+xml": "<?xml version=\"1.0\" encoding=\"utf-8\" standalone=\"no\"?>\n<!DOCTYPE svg PUBLIC \"-//W3C//DTD SVG 1.1//EN\"\n  \"http://www.w3.org/Graphics/SVG/1.1/DTD/svg11.dtd\">\n<!-- Created with matplotlib (https://matplotlib.org/) -->\n<svg height=\"302.878125pt\" version=\"1.1\" viewBox=\"0 0 474.1625 302.878125\" width=\"474.1625pt\" xmlns=\"http://www.w3.org/2000/svg\" xmlns:xlink=\"http://www.w3.org/1999/xlink\">\n <defs>\n  <style type=\"text/css\">\n*{stroke-linecap:butt;stroke-linejoin:round;}\n  </style>\n </defs>\n <g id=\"figure_1\">\n  <g id=\"patch_1\">\n   <path d=\"M 0 302.878125 \nL 474.1625 302.878125 \nL 474.1625 0 \nL 0 0 \nz\n\" style=\"fill:none;\"/>\n  </g>\n  <g id=\"axes_1\">\n   <g id=\"patch_2\">\n    <path d=\"M 20.5625 279 \nL 466.9625 279 \nL 466.9625 7.2 \nL 20.5625 7.2 \nz\n\" style=\"fill:#ffffff;\"/>\n   </g>\n   <g id=\"patch_3\">\n    <path clip-path=\"url(#pf5dc668077)\" d=\"M 40.853409 279 \nL 53.944318 279 \nL 53.944318 163.952381 \nL 40.853409 163.952381 \nz\n\" style=\"fill:#0000ff;\"/>\n   </g>\n   <g id=\"patch_4\">\n    <path clip-path=\"url(#pf5dc668077)\" d=\"M 57.217045 279 \nL 70.307955 279 \nL 70.307955 192.714286 \nL 57.217045 192.714286 \nz\n\" style=\"fill:#0000ff;\"/>\n   </g>\n   <g id=\"patch_5\">\n    <path clip-path=\"url(#pf5dc668077)\" d=\"M 73.580682 279 \nL 86.671591 279 \nL 86.671591 192.714286 \nL 73.580682 192.714286 \nz\n\" style=\"fill:#0000ff;\"/>\n   </g>\n   <g id=\"patch_6\">\n    <path clip-path=\"url(#pf5dc668077)\" d=\"M 89.944318 279 \nL 103.035227 279 \nL 103.035227 20.142857 \nL 89.944318 20.142857 \nz\n\" style=\"fill:#0000ff;\"/>\n   </g>\n   <g id=\"patch_7\">\n    <path clip-path=\"url(#pf5dc668077)\" d=\"M 106.307955 279 \nL 119.398864 279 \nL 119.398864 250.238095 \nL 106.307955 250.238095 \nz\n\" style=\"fill:#0000ff;\"/>\n   </g>\n   <g id=\"patch_8\">\n    <path clip-path=\"url(#pf5dc668077)\" d=\"M 122.671591 279 \nL 135.7625 279 \nL 135.7625 192.714286 \nL 122.671591 192.714286 \nz\n\" style=\"fill:#0000ff;\"/>\n   </g>\n   <g id=\"patch_9\">\n    <path clip-path=\"url(#pf5dc668077)\" d=\"M 139.035227 279 \nL 152.126136 279 \nL 152.126136 163.952381 \nL 139.035227 163.952381 \nz\n\" style=\"fill:#0000ff;\"/>\n   </g>\n   <g id=\"patch_10\">\n    <path clip-path=\"url(#pf5dc668077)\" d=\"M 155.398864 279 \nL 168.489773 279 \nL 168.489773 192.714286 \nL 155.398864 192.714286 \nz\n\" style=\"fill:#0000ff;\"/>\n   </g>\n   <g id=\"patch_11\">\n    <path clip-path=\"url(#pf5dc668077)\" d=\"M 171.7625 279 \nL 184.853409 279 \nL 184.853409 20.142857 \nL 171.7625 20.142857 \nz\n\" style=\"fill:#0000ff;\"/>\n   </g>\n   <g id=\"patch_12\">\n    <path clip-path=\"url(#pf5dc668077)\" d=\"M 188.126136 279 \nL 201.217045 279 \nL 201.217045 250.238095 \nL 188.126136 250.238095 \nz\n\" style=\"fill:#0000ff;\"/>\n   </g>\n   <g id=\"patch_13\">\n    <path clip-path=\"url(#pf5dc668077)\" d=\"M 204.489773 279 \nL 217.580682 279 \nL 217.580682 192.714286 \nL 204.489773 192.714286 \nz\n\" style=\"fill:#0000ff;\"/>\n   </g>\n   <g id=\"patch_14\">\n    <path clip-path=\"url(#pf5dc668077)\" d=\"M 220.853409 279 \nL 233.944318 279 \nL 233.944318 135.190476 \nL 220.853409 135.190476 \nz\n\" style=\"fill:#0000ff;\"/>\n   </g>\n   <g id=\"patch_15\">\n    <path clip-path=\"url(#pf5dc668077)\" d=\"M 237.217045 279 \nL 250.307955 279 \nL 250.307955 163.952381 \nL 237.217045 163.952381 \nz\n\" style=\"fill:#0000ff;\"/>\n   </g>\n   <g id=\"patch_16\">\n    <path clip-path=\"url(#pf5dc668077)\" d=\"M 253.580682 279 \nL 266.671591 279 \nL 266.671591 77.666667 \nL 253.580682 77.666667 \nz\n\" style=\"fill:#0000ff;\"/>\n   </g>\n   <g id=\"patch_17\">\n    <path clip-path=\"url(#pf5dc668077)\" d=\"M 269.944318 279 \nL 283.035227 279 \nL 283.035227 250.238095 \nL 269.944318 250.238095 \nz\n\" style=\"fill:#0000ff;\"/>\n   </g>\n   <g id=\"patch_18\">\n    <path clip-path=\"url(#pf5dc668077)\" d=\"M 286.307955 279 \nL 299.398864 279 \nL 299.398864 163.952381 \nL 286.307955 163.952381 \nz\n\" style=\"fill:#0000ff;\"/>\n   </g>\n   <g id=\"patch_19\">\n    <path clip-path=\"url(#pf5dc668077)\" d=\"M 302.671591 279 \nL 315.7625 279 \nL 315.7625 163.952381 \nL 302.671591 163.952381 \nz\n\" style=\"fill:#0000ff;\"/>\n   </g>\n   <g id=\"patch_20\">\n    <path clip-path=\"url(#pf5dc668077)\" d=\"M 319.035227 279 \nL 332.126136 279 \nL 332.126136 135.190476 \nL 319.035227 135.190476 \nz\n\" style=\"fill:#0000ff;\"/>\n   </g>\n   <g id=\"patch_21\">\n    <path clip-path=\"url(#pf5dc668077)\" d=\"M 335.398864 279 \nL 348.489773 279 \nL 348.489773 106.428571 \nL 335.398864 106.428571 \nz\n\" style=\"fill:#0000ff;\"/>\n   </g>\n   <g id=\"patch_22\">\n    <path clip-path=\"url(#pf5dc668077)\" d=\"M 351.7625 279 \nL 364.853409 279 \nL 364.853409 250.238095 \nL 351.7625 250.238095 \nz\n\" style=\"fill:#0000ff;\"/>\n   </g>\n   <g id=\"patch_23\">\n    <path clip-path=\"url(#pf5dc668077)\" d=\"M 368.126136 279 \nL 381.217045 279 \nL 381.217045 135.190476 \nL 368.126136 135.190476 \nz\n\" style=\"fill:#0000ff;\"/>\n   </g>\n   <g id=\"patch_24\">\n    <path clip-path=\"url(#pf5dc668077)\" d=\"M 384.489773 279 \nL 397.580682 279 \nL 397.580682 192.714286 \nL 384.489773 192.714286 \nz\n\" style=\"fill:#0000ff;\"/>\n   </g>\n   <g id=\"patch_25\">\n    <path clip-path=\"url(#pf5dc668077)\" d=\"M 400.853409 279 \nL 413.944318 279 \nL 413.944318 163.952381 \nL 400.853409 163.952381 \nz\n\" style=\"fill:#0000ff;\"/>\n   </g>\n   <g id=\"patch_26\">\n    <path clip-path=\"url(#pf5dc668077)\" d=\"M 417.217045 279 \nL 430.307955 279 \nL 430.307955 77.666667 \nL 417.217045 77.666667 \nz\n\" style=\"fill:#0000ff;\"/>\n   </g>\n   <g id=\"patch_27\">\n    <path clip-path=\"url(#pf5dc668077)\" d=\"M 433.580682 279 \nL 446.671591 279 \nL 446.671591 250.238095 \nL 433.580682 250.238095 \nz\n\" style=\"fill:#0000ff;\"/>\n   </g>\n   <g id=\"matplotlib.axis_1\">\n    <g id=\"xtick_1\">\n     <g id=\"line2d_1\">\n      <defs>\n       <path d=\"M 0 0 \nL 0 3.5 \n\" id=\"macf3ea5a97\" style=\"stroke:#000000;stroke-width:0.8;\"/>\n      </defs>\n      <g>\n       <use style=\"stroke:#000000;stroke-width:0.8;\" x=\"47.398864\" xlink:href=\"#macf3ea5a97\" y=\"279\"/>\n      </g>\n     </g>\n     <g id=\"text_1\">\n      <!-- 0 -->\n      <defs>\n       <path d=\"M 31.78125 66.40625 \nQ 24.171875 66.40625 20.328125 58.90625 \nQ 16.5 51.421875 16.5 36.375 \nQ 16.5 21.390625 20.328125 13.890625 \nQ 24.171875 6.390625 31.78125 6.390625 \nQ 39.453125 6.390625 43.28125 13.890625 \nQ 47.125 21.390625 47.125 36.375 \nQ 47.125 51.421875 43.28125 58.90625 \nQ 39.453125 66.40625 31.78125 66.40625 \nz\nM 31.78125 74.21875 \nQ 44.046875 74.21875 50.515625 64.515625 \nQ 56.984375 54.828125 56.984375 36.375 \nQ 56.984375 17.96875 50.515625 8.265625 \nQ 44.046875 -1.421875 31.78125 -1.421875 \nQ 19.53125 -1.421875 13.0625 8.265625 \nQ 6.59375 17.96875 6.59375 36.375 \nQ 6.59375 54.828125 13.0625 64.515625 \nQ 19.53125 74.21875 31.78125 74.21875 \nz\n\" id=\"DejaVuSans-48\"/>\n      </defs>\n      <g transform=\"translate(44.217614 293.598437)scale(0.1 -0.1)\">\n       <use xlink:href=\"#DejaVuSans-48\"/>\n      </g>\n     </g>\n    </g>\n    <g id=\"xtick_2\">\n     <g id=\"line2d_2\">\n      <g>\n       <use style=\"stroke:#000000;stroke-width:0.8;\" x=\"129.217045\" xlink:href=\"#macf3ea5a97\" y=\"279\"/>\n      </g>\n     </g>\n     <g id=\"text_2\">\n      <!-- 5 -->\n      <defs>\n       <path d=\"M 10.796875 72.90625 \nL 49.515625 72.90625 \nL 49.515625 64.59375 \nL 19.828125 64.59375 \nL 19.828125 46.734375 \nQ 21.96875 47.46875 24.109375 47.828125 \nQ 26.265625 48.1875 28.421875 48.1875 \nQ 40.625 48.1875 47.75 41.5 \nQ 54.890625 34.8125 54.890625 23.390625 \nQ 54.890625 11.625 47.5625 5.09375 \nQ 40.234375 -1.421875 26.90625 -1.421875 \nQ 22.3125 -1.421875 17.546875 -0.640625 \nQ 12.796875 0.140625 7.71875 1.703125 \nL 7.71875 11.625 \nQ 12.109375 9.234375 16.796875 8.0625 \nQ 21.484375 6.890625 26.703125 6.890625 \nQ 35.15625 6.890625 40.078125 11.328125 \nQ 45.015625 15.765625 45.015625 23.390625 \nQ 45.015625 31 40.078125 35.4375 \nQ 35.15625 39.890625 26.703125 39.890625 \nQ 22.75 39.890625 18.8125 39.015625 \nQ 14.890625 38.140625 10.796875 36.28125 \nz\n\" id=\"DejaVuSans-53\"/>\n      </defs>\n      <g transform=\"translate(126.035795 293.598437)scale(0.1 -0.1)\">\n       <use xlink:href=\"#DejaVuSans-53\"/>\n      </g>\n     </g>\n    </g>\n    <g id=\"xtick_3\">\n     <g id=\"line2d_3\">\n      <g>\n       <use style=\"stroke:#000000;stroke-width:0.8;\" x=\"211.035227\" xlink:href=\"#macf3ea5a97\" y=\"279\"/>\n      </g>\n     </g>\n     <g id=\"text_3\">\n      <!-- 10 -->\n      <defs>\n       <path d=\"M 12.40625 8.296875 \nL 28.515625 8.296875 \nL 28.515625 63.921875 \nL 10.984375 60.40625 \nL 10.984375 69.390625 \nL 28.421875 72.90625 \nL 38.28125 72.90625 \nL 38.28125 8.296875 \nL 54.390625 8.296875 \nL 54.390625 0 \nL 12.40625 0 \nz\n\" id=\"DejaVuSans-49\"/>\n      </defs>\n      <g transform=\"translate(204.672727 293.598437)scale(0.1 -0.1)\">\n       <use xlink:href=\"#DejaVuSans-49\"/>\n       <use x=\"63.623047\" xlink:href=\"#DejaVuSans-48\"/>\n      </g>\n     </g>\n    </g>\n    <g id=\"xtick_4\">\n     <g id=\"line2d_4\">\n      <g>\n       <use style=\"stroke:#000000;stroke-width:0.8;\" x=\"292.853409\" xlink:href=\"#macf3ea5a97\" y=\"279\"/>\n      </g>\n     </g>\n     <g id=\"text_4\">\n      <!-- 15 -->\n      <g transform=\"translate(286.490909 293.598437)scale(0.1 -0.1)\">\n       <use xlink:href=\"#DejaVuSans-49\"/>\n       <use x=\"63.623047\" xlink:href=\"#DejaVuSans-53\"/>\n      </g>\n     </g>\n    </g>\n    <g id=\"xtick_5\">\n     <g id=\"line2d_5\">\n      <g>\n       <use style=\"stroke:#000000;stroke-width:0.8;\" x=\"374.671591\" xlink:href=\"#macf3ea5a97\" y=\"279\"/>\n      </g>\n     </g>\n     <g id=\"text_5\">\n      <!-- 20 -->\n      <defs>\n       <path d=\"M 19.1875 8.296875 \nL 53.609375 8.296875 \nL 53.609375 0 \nL 7.328125 0 \nL 7.328125 8.296875 \nQ 12.9375 14.109375 22.625 23.890625 \nQ 32.328125 33.6875 34.8125 36.53125 \nQ 39.546875 41.84375 41.421875 45.53125 \nQ 43.3125 49.21875 43.3125 52.78125 \nQ 43.3125 58.59375 39.234375 62.25 \nQ 35.15625 65.921875 28.609375 65.921875 \nQ 23.96875 65.921875 18.8125 64.3125 \nQ 13.671875 62.703125 7.8125 59.421875 \nL 7.8125 69.390625 \nQ 13.765625 71.78125 18.9375 73 \nQ 24.125 74.21875 28.421875 74.21875 \nQ 39.75 74.21875 46.484375 68.546875 \nQ 53.21875 62.890625 53.21875 53.421875 \nQ 53.21875 48.921875 51.53125 44.890625 \nQ 49.859375 40.875 45.40625 35.40625 \nQ 44.1875 33.984375 37.640625 27.21875 \nQ 31.109375 20.453125 19.1875 8.296875 \nz\n\" id=\"DejaVuSans-50\"/>\n      </defs>\n      <g transform=\"translate(368.309091 293.598437)scale(0.1 -0.1)\">\n       <use xlink:href=\"#DejaVuSans-50\"/>\n       <use x=\"63.623047\" xlink:href=\"#DejaVuSans-48\"/>\n      </g>\n     </g>\n    </g>\n    <g id=\"xtick_6\">\n     <g id=\"line2d_6\">\n      <g>\n       <use style=\"stroke:#000000;stroke-width:0.8;\" x=\"456.489773\" xlink:href=\"#macf3ea5a97\" y=\"279\"/>\n      </g>\n     </g>\n     <g id=\"text_6\">\n      <!-- 25 -->\n      <g transform=\"translate(450.127273 293.598437)scale(0.1 -0.1)\">\n       <use xlink:href=\"#DejaVuSans-50\"/>\n       <use x=\"63.623047\" xlink:href=\"#DejaVuSans-53\"/>\n      </g>\n     </g>\n    </g>\n   </g>\n   <g id=\"matplotlib.axis_2\">\n    <g id=\"ytick_1\">\n     <g id=\"line2d_7\">\n      <defs>\n       <path d=\"M 0 0 \nL -3.5 0 \n\" id=\"m2fa0340246\" style=\"stroke:#000000;stroke-width:0.8;\"/>\n      </defs>\n      <g>\n       <use style=\"stroke:#000000;stroke-width:0.8;\" x=\"20.5625\" xlink:href=\"#m2fa0340246\" y=\"279\"/>\n      </g>\n     </g>\n     <g id=\"text_7\">\n      <!-- 0 -->\n      <g transform=\"translate(7.2 282.799219)scale(0.1 -0.1)\">\n       <use xlink:href=\"#DejaVuSans-48\"/>\n      </g>\n     </g>\n    </g>\n    <g id=\"ytick_2\">\n     <g id=\"line2d_8\">\n      <g>\n       <use style=\"stroke:#000000;stroke-width:0.8;\" x=\"20.5625\" xlink:href=\"#m2fa0340246\" y=\"221.47619\"/>\n      </g>\n     </g>\n     <g id=\"text_8\">\n      <!-- 2 -->\n      <g transform=\"translate(7.2 225.275409)scale(0.1 -0.1)\">\n       <use xlink:href=\"#DejaVuSans-50\"/>\n      </g>\n     </g>\n    </g>\n    <g id=\"ytick_3\">\n     <g id=\"line2d_9\">\n      <g>\n       <use style=\"stroke:#000000;stroke-width:0.8;\" x=\"20.5625\" xlink:href=\"#m2fa0340246\" y=\"163.952381\"/>\n      </g>\n     </g>\n     <g id=\"text_9\">\n      <!-- 4 -->\n      <defs>\n       <path d=\"M 37.796875 64.3125 \nL 12.890625 25.390625 \nL 37.796875 25.390625 \nz\nM 35.203125 72.90625 \nL 47.609375 72.90625 \nL 47.609375 25.390625 \nL 58.015625 25.390625 \nL 58.015625 17.1875 \nL 47.609375 17.1875 \nL 47.609375 0 \nL 37.796875 0 \nL 37.796875 17.1875 \nL 4.890625 17.1875 \nL 4.890625 26.703125 \nz\n\" id=\"DejaVuSans-52\"/>\n      </defs>\n      <g transform=\"translate(7.2 167.7516)scale(0.1 -0.1)\">\n       <use xlink:href=\"#DejaVuSans-52\"/>\n      </g>\n     </g>\n    </g>\n    <g id=\"ytick_4\">\n     <g id=\"line2d_10\">\n      <g>\n       <use style=\"stroke:#000000;stroke-width:0.8;\" x=\"20.5625\" xlink:href=\"#m2fa0340246\" y=\"106.428571\"/>\n      </g>\n     </g>\n     <g id=\"text_10\">\n      <!-- 6 -->\n      <defs>\n       <path d=\"M 33.015625 40.375 \nQ 26.375 40.375 22.484375 35.828125 \nQ 18.609375 31.296875 18.609375 23.390625 \nQ 18.609375 15.53125 22.484375 10.953125 \nQ 26.375 6.390625 33.015625 6.390625 \nQ 39.65625 6.390625 43.53125 10.953125 \nQ 47.40625 15.53125 47.40625 23.390625 \nQ 47.40625 31.296875 43.53125 35.828125 \nQ 39.65625 40.375 33.015625 40.375 \nz\nM 52.59375 71.296875 \nL 52.59375 62.3125 \nQ 48.875 64.0625 45.09375 64.984375 \nQ 41.3125 65.921875 37.59375 65.921875 \nQ 27.828125 65.921875 22.671875 59.328125 \nQ 17.53125 52.734375 16.796875 39.40625 \nQ 19.671875 43.65625 24.015625 45.921875 \nQ 28.375 48.1875 33.59375 48.1875 \nQ 44.578125 48.1875 50.953125 41.515625 \nQ 57.328125 34.859375 57.328125 23.390625 \nQ 57.328125 12.15625 50.6875 5.359375 \nQ 44.046875 -1.421875 33.015625 -1.421875 \nQ 20.359375 -1.421875 13.671875 8.265625 \nQ 6.984375 17.96875 6.984375 36.375 \nQ 6.984375 53.65625 15.1875 63.9375 \nQ 23.390625 74.21875 37.203125 74.21875 \nQ 40.921875 74.21875 44.703125 73.484375 \nQ 48.484375 72.75 52.59375 71.296875 \nz\n\" id=\"DejaVuSans-54\"/>\n      </defs>\n      <g transform=\"translate(7.2 110.22779)scale(0.1 -0.1)\">\n       <use xlink:href=\"#DejaVuSans-54\"/>\n      </g>\n     </g>\n    </g>\n    <g id=\"ytick_5\">\n     <g id=\"line2d_11\">\n      <g>\n       <use style=\"stroke:#000000;stroke-width:0.8;\" x=\"20.5625\" xlink:href=\"#m2fa0340246\" y=\"48.904762\"/>\n      </g>\n     </g>\n     <g id=\"text_11\">\n      <!-- 8 -->\n      <defs>\n       <path d=\"M 31.78125 34.625 \nQ 24.75 34.625 20.71875 30.859375 \nQ 16.703125 27.09375 16.703125 20.515625 \nQ 16.703125 13.921875 20.71875 10.15625 \nQ 24.75 6.390625 31.78125 6.390625 \nQ 38.8125 6.390625 42.859375 10.171875 \nQ 46.921875 13.96875 46.921875 20.515625 \nQ 46.921875 27.09375 42.890625 30.859375 \nQ 38.875 34.625 31.78125 34.625 \nz\nM 21.921875 38.8125 \nQ 15.578125 40.375 12.03125 44.71875 \nQ 8.5 49.078125 8.5 55.328125 \nQ 8.5 64.0625 14.71875 69.140625 \nQ 20.953125 74.21875 31.78125 74.21875 \nQ 42.671875 74.21875 48.875 69.140625 \nQ 55.078125 64.0625 55.078125 55.328125 \nQ 55.078125 49.078125 51.53125 44.71875 \nQ 48 40.375 41.703125 38.8125 \nQ 48.828125 37.15625 52.796875 32.3125 \nQ 56.78125 27.484375 56.78125 20.515625 \nQ 56.78125 9.90625 50.3125 4.234375 \nQ 43.84375 -1.421875 31.78125 -1.421875 \nQ 19.734375 -1.421875 13.25 4.234375 \nQ 6.78125 9.90625 6.78125 20.515625 \nQ 6.78125 27.484375 10.78125 32.3125 \nQ 14.796875 37.15625 21.921875 38.8125 \nz\nM 18.3125 54.390625 \nQ 18.3125 48.734375 21.84375 45.5625 \nQ 25.390625 42.390625 31.78125 42.390625 \nQ 38.140625 42.390625 41.71875 45.5625 \nQ 45.3125 48.734375 45.3125 54.390625 \nQ 45.3125 60.0625 41.71875 63.234375 \nQ 38.140625 66.40625 31.78125 66.40625 \nQ 25.390625 66.40625 21.84375 63.234375 \nQ 18.3125 60.0625 18.3125 54.390625 \nz\n\" id=\"DejaVuSans-56\"/>\n      </defs>\n      <g transform=\"translate(7.2 52.703981)scale(0.1 -0.1)\">\n       <use xlink:href=\"#DejaVuSans-56\"/>\n      </g>\n     </g>\n    </g>\n   </g>\n   <g id=\"patch_28\">\n    <path d=\"M 20.5625 279 \nL 20.5625 7.2 \n\" style=\"fill:none;stroke:#000000;stroke-linecap:square;stroke-linejoin:miter;stroke-width:0.8;\"/>\n   </g>\n   <g id=\"patch_29\">\n    <path d=\"M 466.9625 279 \nL 466.9625 7.2 \n\" style=\"fill:none;stroke:#000000;stroke-linecap:square;stroke-linejoin:miter;stroke-width:0.8;\"/>\n   </g>\n   <g id=\"patch_30\">\n    <path d=\"M 20.5625 279 \nL 466.9625 279 \n\" style=\"fill:none;stroke:#000000;stroke-linecap:square;stroke-linejoin:miter;stroke-width:0.8;\"/>\n   </g>\n   <g id=\"patch_31\">\n    <path d=\"M 20.5625 7.2 \nL 466.9625 7.2 \n\" style=\"fill:none;stroke:#000000;stroke-linecap:square;stroke-linejoin:miter;stroke-width:0.8;\"/>\n   </g>\n  </g>\n </g>\n <defs>\n  <clipPath id=\"pf5dc668077\">\n   <rect height=\"271.8\" width=\"446.4\" x=\"20.5625\" y=\"7.2\"/>\n  </clipPath>\n </defs>\n</svg>\n",
      "text/plain": "<Figure size 576x360 with 1 Axes>"
     },
     "metadata": {
      "needs_background": "light"
     },
     "output_type": "display_data"
    }
   ],
   "source": [
    "import matplotlib.pyplot as plt\n",
    "%matplotlib inline\n",
    "\n",
    "# counts\n",
    "group = ['Task', 'Category']\n",
    "counts = plagiarism_df.groupby(group).size().reset_index(name=\"Counts\")\n",
    "\n",
    "plt.figure(figsize=(8,5))\n",
    "plt.bar(range(len(counts)), counts['Counts'], color = 'blue')"
   ]
  },
  {
   "cell_type": "markdown",
   "metadata": {},
   "source": [
    "## Up Next\n",
    "\n",
    "This notebook is just about data loading and exploration, and you do not need to include it in your final project submission. \n",
    "\n",
    "In the next few notebooks, you'll use this data to train a complete plagiarism classifier. You'll be tasked with extracting meaningful features from the text data, reading in answers to different tasks and comparing them to the original Wikipedia source text. You'll engineer similarity features that will help identify cases of plagiarism. Then, you'll use these features to train and deploy a classification model in a SageMaker notebook instance. "
   ]
  }
 ],
 "metadata": {
  "kernelspec": {
   "display_name": "Python 3.8.1 64-bit ('sage_env': venv)",
   "language": "python",
   "name": "python38164bitsageenvvenv94e7425ec82648179ba45116263ffaf6"
  },
  "language_info": {
   "codemirror_mode": {
    "name": "ipython",
    "version": 3
   },
   "file_extension": ".py",
   "mimetype": "text/x-python",
   "name": "python",
   "nbconvert_exporter": "python",
   "pygments_lexer": "ipython3",
   "version": "3.8.1-final"
  }
 },
 "nbformat": 4,
 "nbformat_minor": 2
}